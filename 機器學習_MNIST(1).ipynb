{
  "cells": [
    {
      "cell_type": "markdown",
      "metadata": {
        "id": "view-in-github",
        "colab_type": "text"
      },
      "source": [
        "<a href=\"https://colab.research.google.com/github/Nickcys/hw1_M11221055/blob/main/%E6%A9%9F%E5%99%A8%E5%AD%B8%E7%BF%92_MNIST(1).ipynb\" target=\"_parent\"><img src=\"https://colab.research.google.com/assets/colab-badge.svg\" alt=\"Open In Colab\"/></a>"
      ]
    },
    {
      "cell_type": "markdown",
      "id": "d156d21a-3b16-4746-bee5-023da89a47a0",
      "metadata": {
        "id": "d156d21a-3b16-4746-bee5-023da89a47a0"
      },
      "source": [
        "### **1.輸入tensorflow套件**"
      ]
    },
    {
      "cell_type": "code",
      "execution_count": null,
      "id": "b59540c6-65bb-48af-be5d-5f059506b991",
      "metadata": {
        "id": "b59540c6-65bb-48af-be5d-5f059506b991"
      },
      "outputs": [],
      "source": [
        "# 神經網路方面\n",
        "import tensorflow as tf\n",
        "from tensorflow.keras.datasets import mnist\n",
        "from tensorflow.keras.utils import to_categorical\n",
        "from tensorflow.keras.models import Sequential\n",
        "from tensorflow.keras.layers import Dense\n",
        "#優化器\n",
        "from tensorflow.keras.optimizers import RMSprop\n",
        "#激活函數\n",
        "from tensorflow.keras.activations import sigmoid, softplus, relu"
      ]
    },
    {
      "cell_type": "markdown",
      "id": "d082dc7c-d2f5-42ed-871e-8c022ac39734",
      "metadata": {
        "id": "d082dc7c-d2f5-42ed-871e-8c022ac39734"
      },
      "source": [
        "### **2.讀入 MNIST 數據庫**"
      ]
    },
    {
      "cell_type": "markdown",
      "id": "96f01c4c-61b5-405e-8d5b-ba6bf5fe3743",
      "metadata": {
        "id": "96f01c4c-61b5-405e-8d5b-ba6bf5fe3743"
      },
      "source": [
        "使用Keras讀取MNIST數據集，能夠快速構建深度學習模型，並將數據自動分為60000筆訓練集和10000筆測試集"
      ]
    },
    {
      "cell_type": "code",
      "execution_count": null,
      "id": "5c93ae1b-c8e8-46d4-af82-e61bfd1b1d69",
      "metadata": {
        "id": "5c93ae1b-c8e8-46d4-af82-e61bfd1b1d69"
      },
      "outputs": [],
      "source": [
        "# x表示為images ,y表示為labels\n",
        "(x_train, y_train), (x_test, y_test) = mnist.load_data()"
      ]
    },
    {
      "cell_type": "markdown",
      "id": "33256de4-69a1-443c-9471-a24adc6c2f94",
      "metadata": {
        "id": "33256de4-69a1-443c-9471-a24adc6c2f94"
      },
      "source": [
        "確認訓練集/測試集資料數量是否正確"
      ]
    },
    {
      "cell_type": "code",
      "execution_count": null,
      "id": "c87df9f8-65e4-4d5f-a167-8ae154273188",
      "metadata": {
        "id": "c87df9f8-65e4-4d5f-a167-8ae154273188",
        "outputId": "89048ee4-861b-4bde-f319-2fbde2a699d8"
      },
      "outputs": [
        {
          "name": "stdout",
          "output_type": "stream",
          "text": [
            "訓練資料總筆數為 60000 筆資料\n",
            "測試資料總筆數為 10000 筆資料\n"
          ]
        }
      ],
      "source": [
        "print(f'訓練資料總筆數為 {len(x_train)} 筆資料')\n",
        "print(f'測試資料總筆數為 {len(x_test)} 筆資料')"
      ]
    },
    {
      "cell_type": "markdown",
      "id": "0cce65c1-5156-4e9a-a85e-e42367c59e24",
      "metadata": {
        "id": "0cce65c1-5156-4e9a-a85e-e42367c59e24"
      },
      "source": [
        "### **2.1 輸入格式整理**"
      ]
    },
    {
      "cell_type": "markdown",
      "id": "dcb3953c-2dde-4319-8e8d-7b0ce4c7d754",
      "metadata": {
        "id": "dcb3953c-2dde-4319-8e8d-7b0ce4c7d754"
      },
      "source": [
        "每筆數據x(照片)為28x28的矩陣,需轉換調校成一個784維的向量。再將輸入資料normalization，收斂到0-1間"
      ]
    },
    {
      "cell_type": "code",
      "execution_count": null,
      "id": "10dbd64c-4ebf-4bd3-8c9a-227922093904",
      "metadata": {
        "id": "10dbd64c-4ebf-4bd3-8c9a-227922093904",
        "outputId": "85443b4f-049a-4328-83d2-e18ad130a142"
      },
      "outputs": [
        {
          "data": {
            "text/plain": [
              "(60000, 28, 28)"
            ]
          },
          "execution_count": 80,
          "metadata": {},
          "output_type": "execute_result"
        }
      ],
      "source": [
        "x_train.shape"
      ]
    },
    {
      "cell_type": "code",
      "execution_count": null,
      "id": "96e8af23-47a0-4892-a036-87a345b63a1b",
      "metadata": {
        "id": "96e8af23-47a0-4892-a036-87a345b63a1b",
        "outputId": "baf6105b-7179-4689-8268-0f7b8459fdc1"
      },
      "outputs": [
        {
          "data": {
            "text/plain": [
              "(10000, 28, 28)"
            ]
          },
          "execution_count": 82,
          "metadata": {},
          "output_type": "execute_result"
        }
      ],
      "source": [
        "x_test.shape"
      ]
    },
    {
      "cell_type": "code",
      "execution_count": null,
      "id": "e860d5a9-9fe1-440e-ab88-2d4aca9b6189",
      "metadata": {
        "id": "e860d5a9-9fe1-440e-ab88-2d4aca9b6189"
      },
      "outputs": [],
      "source": [
        "x_train = x_train.reshape(60000,28*28)/255\n",
        "x_test = x_test.reshape(10000,28*28)/255"
      ]
    },
    {
      "cell_type": "markdown",
      "id": "5371a648-a5dc-485e-998d-e72e782de495",
      "metadata": {
        "id": "5371a648-a5dc-485e-998d-e72e782de495"
      },
      "source": [
        "確認輸入圖形資料訓練集/測試集的shape，已轉成784維向量"
      ]
    },
    {
      "cell_type": "code",
      "execution_count": null,
      "id": "a17b0f38-4db4-49e8-a664-d46cea88368e",
      "metadata": {
        "id": "a17b0f38-4db4-49e8-a664-d46cea88368e",
        "outputId": "0caeeff0-1e65-494e-dd75-8facf958e862"
      },
      "outputs": [
        {
          "name": "stdout",
          "output_type": "stream",
          "text": [
            "(60000, 784)\n"
          ]
        }
      ],
      "source": [
        "print(x_train.shape)"
      ]
    },
    {
      "cell_type": "code",
      "execution_count": null,
      "id": "d752ca7b-12f3-4cf6-a699-77715747119b",
      "metadata": {
        "id": "d752ca7b-12f3-4cf6-a699-77715747119b",
        "outputId": "471708ad-6746-4df3-987f-5ea8427d44fd"
      },
      "outputs": [
        {
          "name": "stdout",
          "output_type": "stream",
          "text": [
            "(10000, 784)\n"
          ]
        }
      ],
      "source": [
        "print(x_test.shape)"
      ]
    },
    {
      "cell_type": "markdown",
      "id": "623425bf-acb5-4528-a056-55bdfdb8d33a",
      "metadata": {
        "id": "623425bf-acb5-4528-a056-55bdfdb8d33a"
      },
      "source": [
        "查看其第87筆數據輸入型式"
      ]
    },
    {
      "cell_type": "code",
      "execution_count": null,
      "id": "18352333-a8a4-46b1-99a9-8551d1898e4f",
      "metadata": {
        "id": "18352333-a8a4-46b1-99a9-8551d1898e4f",
        "outputId": "3bb23b2e-6886-465c-e875-71d232a1dcd5"
      },
      "outputs": [
        {
          "data": {
            "text/plain": [
              "array([0.        , 0.        , 0.        , 0.        , 0.        ,\n",
              "       0.        , 0.        , 0.        , 0.        , 0.        ,\n",
              "       0.        , 0.        , 0.        , 0.        , 0.        ,\n",
              "       0.        , 0.        , 0.        , 0.        , 0.        ,\n",
              "       0.        , 0.        , 0.        , 0.        , 0.        ,\n",
              "       0.        , 0.        , 0.        , 0.        , 0.        ,\n",
              "       0.        , 0.        , 0.        , 0.        , 0.        ,\n",
              "       0.        , 0.        , 0.        , 0.        , 0.        ,\n",
              "       0.        , 0.        , 0.        , 0.        , 0.        ,\n",
              "       0.        , 0.        , 0.        , 0.        , 0.        ,\n",
              "       0.        , 0.        , 0.        , 0.        , 0.        ,\n",
              "       0.        , 0.        , 0.        , 0.        , 0.        ,\n",
              "       0.        , 0.        , 0.        , 0.        , 0.        ,\n",
              "       0.        , 0.        , 0.        , 0.        , 0.        ,\n",
              "       0.        , 0.        , 0.        , 0.        , 0.        ,\n",
              "       0.        , 0.        , 0.        , 0.        , 0.        ,\n",
              "       0.        , 0.        , 0.        , 0.        , 0.        ,\n",
              "       0.        , 0.        , 0.        , 0.        , 0.        ,\n",
              "       0.        , 0.        , 0.        , 0.        , 0.        ,\n",
              "       0.        , 0.        , 0.        , 0.        , 0.        ,\n",
              "       0.        , 0.        , 0.        , 0.        , 0.        ,\n",
              "       0.        , 0.        , 0.        , 0.        , 0.        ,\n",
              "       0.        , 0.        , 0.        , 0.        , 0.        ,\n",
              "       0.        , 0.        , 0.        , 0.        , 0.        ,\n",
              "       0.        , 0.        , 0.        , 0.        , 0.        ,\n",
              "       0.        , 0.        , 0.        , 0.        , 0.        ,\n",
              "       0.        , 0.        , 0.        , 0.        , 0.        ,\n",
              "       0.        , 0.        , 0.        , 0.        , 0.        ,\n",
              "       0.        , 0.        , 0.        , 0.        , 0.        ,\n",
              "       0.        , 0.        , 0.        , 0.        , 0.        ,\n",
              "       0.        , 0.        , 0.        , 0.        , 0.        ,\n",
              "       0.        , 0.        , 0.        , 0.        , 0.        ,\n",
              "       0.        , 0.        , 0.        , 0.        , 0.        ,\n",
              "       0.        , 0.        , 0.        , 0.        , 0.        ,\n",
              "       0.        , 0.        , 0.        , 0.        , 0.        ,\n",
              "       0.        , 0.        , 0.        , 0.        , 0.        ,\n",
              "       0.        , 0.        , 0.        , 0.        , 0.        ,\n",
              "       0.        , 0.        , 0.        , 0.        , 0.        ,\n",
              "       0.        , 0.        , 0.        , 0.        , 0.        ,\n",
              "       0.        , 0.        , 0.        , 0.        , 0.        ,\n",
              "       0.        , 0.        , 0.        , 0.        , 0.        ,\n",
              "       0.        , 0.        , 0.        , 0.15294118, 0.49019608,\n",
              "       0.88235294, 0.99607843, 0.99607843, 1.        , 0.99607843,\n",
              "       0.66666667, 0.18823529, 0.        , 0.        , 0.        ,\n",
              "       0.        , 0.        , 0.        , 0.        , 0.        ,\n",
              "       0.        , 0.        , 0.        , 0.        , 0.        ,\n",
              "       0.        , 0.        , 0.        , 0.        , 0.16862745,\n",
              "       0.39607843, 0.98039216, 0.99215686, 0.99215686, 0.99215686,\n",
              "       0.99215686, 0.99215686, 0.99215686, 0.99215686, 0.98039216,\n",
              "       0.63137255, 0.        , 0.        , 0.        , 0.        ,\n",
              "       0.        , 0.        , 0.        , 0.        , 0.        ,\n",
              "       0.        , 0.        , 0.        , 0.        , 0.        ,\n",
              "       0.        , 0.36862745, 0.96470588, 0.96862745, 0.99215686,\n",
              "       0.99215686, 0.76862745, 0.89019608, 0.45490196, 0.21960784,\n",
              "       0.99215686, 0.99215686, 0.99215686, 0.91764706, 0.        ,\n",
              "       0.        , 0.        , 0.        , 0.        , 0.        ,\n",
              "       0.        , 0.        , 0.        , 0.        , 0.        ,\n",
              "       0.        , 0.        , 0.        , 0.        , 0.59607843,\n",
              "       0.99215686, 0.99215686, 0.70588235, 0.0745098 , 0.03529412,\n",
              "       0.05882353, 0.        , 0.01568627, 0.21568627, 0.99215686,\n",
              "       0.99215686, 0.65098039, 0.        , 0.        , 0.        ,\n",
              "       0.        , 0.        , 0.        , 0.        , 0.        ,\n",
              "       0.        , 0.        , 0.        , 0.        , 0.        ,\n",
              "       0.        , 0.16078431, 0.93333333, 0.99215686, 0.99215686,\n",
              "       0.49019608, 0.        , 0.        , 0.        , 0.08235294,\n",
              "       0.74117647, 0.90980392, 0.99215686, 0.99215686, 0.45882353,\n",
              "       0.        , 0.        , 0.        , 0.        , 0.        ,\n",
              "       0.        , 0.        , 0.        , 0.        , 0.        ,\n",
              "       0.        , 0.        , 0.        , 0.        , 0.85882353,\n",
              "       0.99215686, 0.8627451 , 0.64705882, 0.13333333, 0.36078431,\n",
              "       0.08235294, 0.20392157, 0.89411765, 0.99215686, 0.99215686,\n",
              "       0.94509804, 0.32156863, 0.05098039, 0.        , 0.        ,\n",
              "       0.        , 0.        , 0.        , 0.        , 0.        ,\n",
              "       0.        , 0.        , 0.        , 0.        , 0.        ,\n",
              "       0.        , 0.14901961, 0.94509804, 0.66666667, 0.09803922,\n",
              "       0.07843137, 0.04705882, 0.29411765, 0.15294118, 0.23137255,\n",
              "       0.99215686, 0.99215686, 0.99215686, 0.43137255, 0.        ,\n",
              "       0.        , 0.        , 0.        , 0.        , 0.        ,\n",
              "       0.        , 0.        , 0.        , 0.        , 0.        ,\n",
              "       0.        , 0.        , 0.        , 0.        , 0.43921569,\n",
              "       0.99215686, 0.9254902 , 0.2627451 , 0.        , 0.        ,\n",
              "       0.        , 0.        , 0.39215686, 0.99215686, 0.99215686,\n",
              "       0.86666667, 0.0627451 , 0.        , 0.        , 0.        ,\n",
              "       0.        , 0.        , 0.        , 0.        , 0.        ,\n",
              "       0.        , 0.        , 0.        , 0.        , 0.        ,\n",
              "       0.        , 0.        , 0.09019608, 0.9372549 , 0.99215686,\n",
              "       0.92156863, 0.79215686, 0.52941176, 0.38823529, 0.67843137,\n",
              "       0.94117647, 0.99215686, 0.99215686, 0.43137255, 0.        ,\n",
              "       0.        , 0.        , 0.        , 0.        , 0.        ,\n",
              "       0.        , 0.        , 0.        , 0.        , 0.        ,\n",
              "       0.        , 0.        , 0.        , 0.        , 0.        ,\n",
              "       0.        , 0.21176471, 0.78431373, 0.99215686, 0.99215686,\n",
              "       0.99215686, 0.99215686, 0.99215686, 0.99215686, 0.99215686,\n",
              "       0.94509804, 0.24705882, 0.        , 0.        , 0.        ,\n",
              "       0.        , 0.        , 0.        , 0.        , 0.        ,\n",
              "       0.        , 0.        , 0.        , 0.        , 0.        ,\n",
              "       0.        , 0.        , 0.        , 0.        , 0.        ,\n",
              "       0.09803922, 0.43921569, 0.95686275, 0.99215686, 0.92941176,\n",
              "       0.55686275, 0.99215686, 0.99215686, 0.43529412, 0.        ,\n",
              "       0.        , 0.        , 0.        , 0.        , 0.        ,\n",
              "       0.        , 0.        , 0.        , 0.        , 0.        ,\n",
              "       0.        , 0.        , 0.        , 0.        , 0.        ,\n",
              "       0.        , 0.        , 0.        , 0.        , 0.        ,\n",
              "       0.23921569, 0.27843137, 0.2       , 0.62352941, 0.99215686,\n",
              "       0.7372549 , 0.08627451, 0.        , 0.        , 0.        ,\n",
              "       0.        , 0.        , 0.        , 0.        , 0.        ,\n",
              "       0.        , 0.        , 0.        , 0.        , 0.        ,\n",
              "       0.        , 0.        , 0.        , 0.        , 0.        ,\n",
              "       0.        , 0.        , 0.        , 0.        , 0.05882353,\n",
              "       0.58823529, 0.9254902 , 0.83137255, 0.08627451, 0.        ,\n",
              "       0.        , 0.        , 0.        , 0.        , 0.        ,\n",
              "       0.        , 0.        , 0.        , 0.        , 0.        ,\n",
              "       0.        , 0.        , 0.        , 0.        , 0.        ,\n",
              "       0.        , 0.        , 0.        , 0.        , 0.        ,\n",
              "       0.        , 0.        , 0.38823529, 0.99215686, 0.95294118,\n",
              "       0.38431373, 0.        , 0.        , 0.        , 0.        ,\n",
              "       0.        , 0.        , 0.        , 0.        , 0.        ,\n",
              "       0.        , 0.        , 0.        , 0.        , 0.        ,\n",
              "       0.        , 0.        , 0.        , 0.        , 0.        ,\n",
              "       0.        , 0.        , 0.        , 0.        , 0.28235294,\n",
              "       0.92941176, 0.99215686, 0.41176471, 0.        , 0.        ,\n",
              "       0.        , 0.        , 0.        , 0.        , 0.        ,\n",
              "       0.        , 0.        , 0.        , 0.        , 0.        ,\n",
              "       0.        , 0.        , 0.        , 0.        , 0.        ,\n",
              "       0.        , 0.        , 0.        , 0.        , 0.        ,\n",
              "       0.        , 0.03921569, 0.85882353, 0.99215686, 0.76470588,\n",
              "       0.08627451, 0.        , 0.        , 0.        , 0.        ,\n",
              "       0.        , 0.        , 0.        , 0.        , 0.        ,\n",
              "       0.        , 0.        , 0.        , 0.        , 0.        ,\n",
              "       0.        , 0.        , 0.        , 0.        , 0.        ,\n",
              "       0.        , 0.        , 0.        , 0.03137255, 0.67058824,\n",
              "       0.99215686, 0.81176471, 0.08235294, 0.        , 0.        ,\n",
              "       0.        , 0.        , 0.        , 0.        , 0.        ,\n",
              "       0.        , 0.        , 0.        , 0.        , 0.        ,\n",
              "       0.        , 0.        , 0.        , 0.        , 0.        ,\n",
              "       0.        , 0.        , 0.        , 0.        , 0.        ,\n",
              "       0.        , 0.41176471, 0.99215686, 0.77647059, 0.29803922,\n",
              "       0.        , 0.        , 0.        , 0.        , 0.        ,\n",
              "       0.        , 0.        , 0.        , 0.        , 0.        ,\n",
              "       0.        , 0.        , 0.        , 0.        , 0.        ,\n",
              "       0.        , 0.        , 0.        , 0.        , 0.        ,\n",
              "       0.        , 0.        , 0.        , 0.23529412, 0.94901961,\n",
              "       0.99215686, 0.14901961, 0.        , 0.        , 0.        ,\n",
              "       0.        , 0.        , 0.        , 0.        , 0.        ,\n",
              "       0.        , 0.        , 0.        , 0.        , 0.        ,\n",
              "       0.        , 0.        , 0.        , 0.        , 0.        ,\n",
              "       0.        , 0.        , 0.        , 0.        , 0.        ,\n",
              "       0.        , 0.92156863, 0.99215686, 0.80784314, 0.0745098 ,\n",
              "       0.        , 0.        , 0.        , 0.        , 0.        ,\n",
              "       0.        , 0.        , 0.        , 0.        , 0.        ,\n",
              "       0.        , 0.        , 0.        , 0.        , 0.        ,\n",
              "       0.        , 0.        , 0.        , 0.        , 0.        ,\n",
              "       0.        , 0.        , 0.        , 0.        , 0.        ,\n",
              "       0.        , 0.        , 0.        , 0.        , 0.        ,\n",
              "       0.        , 0.        , 0.        , 0.        , 0.        ,\n",
              "       0.        , 0.        , 0.        , 0.        , 0.        ,\n",
              "       0.        , 0.        , 0.        , 0.        ])"
            ]
          },
          "execution_count": 92,
          "metadata": {},
          "output_type": "execute_result"
        }
      ],
      "source": [
        "n = 87\n",
        "x_train[n]"
      ]
    },
    {
      "cell_type": "markdown",
      "id": "bb004768-46a1-40ac-a2b6-1e0b45b616ed",
      "metadata": {
        "id": "bb004768-46a1-40ac-a2b6-1e0b45b616ed"
      },
      "source": [
        "## **2.2輸出格式化整理**"
      ]
    },
    {
      "cell_type": "markdown",
      "id": "68dd7a20-a8a2-4230-a8d3-31971ba6761e",
      "metadata": {
        "id": "68dd7a20-a8a2-4230-a8d3-31971ba6761e"
      },
      "source": [
        "將y訓練集和測試集的labels從數字類別，轉換為one-hot enconding形式"
      ]
    },
    {
      "cell_type": "code",
      "execution_count": null,
      "id": "48437437-45bf-46af-9bdb-2e2fa402b2fe",
      "metadata": {
        "id": "48437437-45bf-46af-9bdb-2e2fa402b2fe"
      },
      "outputs": [],
      "source": [
        "y_train = to_categorical(y_train, 10)\n",
        "y_test = to_categorical(y_test, 10)"
      ]
    },
    {
      "cell_type": "markdown",
      "id": "b0930277-ed19-43dc-903e-a5a184798242",
      "metadata": {
        "id": "b0930277-ed19-43dc-903e-a5a184798242"
      },
      "source": [
        "確認labels訓練集/測試集的shape，已轉成0-9，共10個類別"
      ]
    },
    {
      "cell_type": "code",
      "execution_count": null,
      "id": "e473d6d9-16b8-4faf-8502-529a4b721d3b",
      "metadata": {
        "id": "e473d6d9-16b8-4faf-8502-529a4b721d3b",
        "outputId": "711e3125-5869-44e7-ce2f-aad5640a9577"
      },
      "outputs": [
        {
          "name": "stdout",
          "output_type": "stream",
          "text": [
            "(60000, 10)\n"
          ]
        }
      ],
      "source": [
        "print(y_train.shape)"
      ]
    },
    {
      "cell_type": "code",
      "execution_count": null,
      "id": "aa198b6b-336c-481c-b193-95b280aec7a2",
      "metadata": {
        "id": "aa198b6b-336c-481c-b193-95b280aec7a2",
        "outputId": "79c7c5b5-3fe8-4c40-dc1b-2ebdfce7d5c4"
      },
      "outputs": [
        {
          "name": "stdout",
          "output_type": "stream",
          "text": [
            "(10000, 10)\n"
          ]
        }
      ],
      "source": [
        "print(y_test.shape)"
      ]
    },
    {
      "cell_type": "markdown",
      "id": "cfd8bd74-0e58-4845-8efa-902b0ce0b3e3",
      "metadata": {
        "id": "cfd8bd74-0e58-4845-8efa-902b0ce0b3e3"
      },
      "source": [
        "查看其第87筆輸出結果"
      ]
    },
    {
      "cell_type": "code",
      "execution_count": null,
      "id": "801f943c-edb1-4bab-a882-afb9da7d590f",
      "metadata": {
        "id": "801f943c-edb1-4bab-a882-afb9da7d590f",
        "outputId": "ec67df2f-3388-4ea5-b617-0a4c8aaa02d5"
      },
      "outputs": [
        {
          "data": {
            "text/plain": [
              "array([0., 0., 0., 0., 0., 0., 0., 0., 0., 1.])"
            ]
          },
          "execution_count": 104,
          "metadata": {},
          "output_type": "execute_result"
        }
      ],
      "source": [
        "n = 87\n",
        "y_train[n]"
      ]
    },
    {
      "cell_type": "markdown",
      "id": "5a55f511-b33c-4031-a402-ce91ecd05c17",
      "metadata": {
        "id": "5a55f511-b33c-4031-a402-ce91ecd05c17"
      },
      "source": [
        "### **3.打造神經網路**\n"
      ]
    },
    {
      "cell_type": "markdown",
      "id": "382e6d29-884f-494b-a612-482da2405561",
      "metadata": {
        "id": "382e6d29-884f-494b-a612-482da2405561"
      },
      "source": [
        "設立兩層隱藏層並設定神經元"
      ]
    },
    {
      "cell_type": "code",
      "execution_count": null,
      "id": "f3759b35-b144-4482-9a9e-75014a9935e7",
      "metadata": {
        "id": "f3759b35-b144-4482-9a9e-75014a9935e7"
      },
      "outputs": [],
      "source": [
        "n11 = 64\n",
        "n12 = 64\n",
        "n21 = 64\n",
        "n22 = 128\n",
        "n31 = 128\n",
        "n32 = 128\n",
        "n41 = 64\n",
        "n42 = 64\n",
        "n43 = 64\n",
        "n51 = 64\n",
        "n52 =128\n",
        "n53 =128\n",
        "n61 =128\n",
        "n62 =128\n",
        "n63 =128"
      ]
    },
    {
      "cell_type": "markdown",
      "id": "386bd6d4-97c5-4408-9f12-16caf2547144",
      "metadata": {
        "id": "386bd6d4-97c5-4408-9f12-16caf2547144"
      },
      "source": [
        "建構神經網路，激活函數是用relu，loss function用多類別單標籤的categorical_crossentropy，最後一層輸出使用softmax"
      ]
    },
    {
      "cell_type": "code",
      "execution_count": null,
      "id": "2051637a-223b-486e-a210-2a0c9d958be3",
      "metadata": {
        "id": "2051637a-223b-486e-a210-2a0c9d958be3"
      },
      "outputs": [],
      "source": [
        "network1=Sequential()\n",
        "network1.add(Dense(n11,input_shape=(784,),activation='relu'))\n",
        "network1.add(Dense(n12,activation='relu'))\n",
        "network1.add(Dense(10,activation='softmax'))\n",
        "network1.compile(loss='categorical_crossentropy', optimizer=RMSprop(learning_rate=0.001), metrics=['accuracy'])"
      ]
    },
    {
      "cell_type": "code",
      "execution_count": null,
      "id": "b916e66f-84f9-4465-bae5-32c2070d5054",
      "metadata": {
        "id": "b916e66f-84f9-4465-bae5-32c2070d5054"
      },
      "outputs": [],
      "source": [
        "network2=Sequential()\n",
        "network2.add(Dense(n21,input_shape=(784,),activation='relu'))\n",
        "network2.add(Dense(n22,activation='relu'))\n",
        "network2.add(Dense(10,activation='softmax'))\n",
        "network2.compile(loss='categorical_crossentropy', optimizer=RMSprop(learning_rate=0.001), metrics=['accuracy'])"
      ]
    },
    {
      "cell_type": "code",
      "execution_count": null,
      "id": "b4421443-a8c6-404b-bad0-932b7d6c2308",
      "metadata": {
        "id": "b4421443-a8c6-404b-bad0-932b7d6c2308"
      },
      "outputs": [],
      "source": [
        "network3=Sequential()\n",
        "network3.add(Dense(n31,input_shape=(784,),activation='relu'))\n",
        "network3.add(Dense(n32,activation='relu'))\n",
        "network3.add(Dense(10,activation='softmax'))\n",
        "network3.compile(loss='categorical_crossentropy', optimizer=RMSprop(learning_rate=0.001), metrics=['accuracy'])"
      ]
    },
    {
      "cell_type": "code",
      "execution_count": null,
      "id": "e2dfb35e-a4f4-403e-9583-2e1c109daa39",
      "metadata": {
        "id": "e2dfb35e-a4f4-403e-9583-2e1c109daa39"
      },
      "outputs": [],
      "source": [
        "network4=Sequential()\n",
        "network4.add(Dense(n41,input_shape=(784,),activation='relu'))\n",
        "network4.add(Dense(n42,activation='relu'))\n",
        "network4.add(Dense(n43,activation='relu'))\n",
        "network4.add(Dense(10,activation='softmax'))\n",
        "network4.compile(loss='categorical_crossentropy', optimizer=RMSprop(learning_rate=0.001), metrics=['accuracy'])"
      ]
    },
    {
      "cell_type": "code",
      "execution_count": null,
      "id": "f6698106-4ced-45ab-bbf0-8177bab1b85c",
      "metadata": {
        "id": "f6698106-4ced-45ab-bbf0-8177bab1b85c"
      },
      "outputs": [],
      "source": [
        "network5=Sequential()\n",
        "network5.add(Dense(n51,input_shape=(784,),activation='relu'))\n",
        "network5.add(Dense(n52,activation='relu'))\n",
        "network5.add(Dense(n53,activation='relu'))\n",
        "network5.add(Dense(10,activation='softmax'))\n",
        "network5.compile(loss='categorical_crossentropy', optimizer=RMSprop(learning_rate=0.001), metrics=['accuracy'])"
      ]
    },
    {
      "cell_type": "code",
      "execution_count": null,
      "id": "0ce7abc7-32e6-4563-bf29-01ad4ca6cf2b",
      "metadata": {
        "id": "0ce7abc7-32e6-4563-bf29-01ad4ca6cf2b"
      },
      "outputs": [],
      "source": [
        "network6=Sequential()\n",
        "network6.add(Dense(n61,input_shape=(784,),activation='relu'))\n",
        "network6.add(Dense(n62,activation='relu'))\n",
        "network6.add(Dense(n63,activation='relu'))\n",
        "network6.add(Dense(10,activation='softmax'))\n",
        "network6.compile(loss='categorical_crossentropy', optimizer=RMSprop(learning_rate=0.001), metrics=['accuracy'])"
      ]
    },
    {
      "cell_type": "markdown",
      "id": "f9b9c747-a5e7-4433-82b1-b0c5dc76aa06",
      "metadata": {
        "id": "f9b9c747-a5e7-4433-82b1-b0c5dc76aa06"
      },
      "source": [
        "### **3.1訓練模型**"
      ]
    },
    {
      "cell_type": "code",
      "execution_count": null,
      "id": "5447e573-6fd1-41c6-bc07-824800c84823",
      "metadata": {
        "id": "5447e573-6fd1-41c6-bc07-824800c84823",
        "outputId": "6275eac5-dd77-4096-da71-9731e341b56f"
      },
      "outputs": [
        {
          "name": "stdout",
          "output_type": "stream",
          "text": [
            "Epoch 1/20\n",
            "\u001b[1m469/469\u001b[0m \u001b[32m━━━━━━━━━━━━━━━━━━━━\u001b[0m\u001b[37m\u001b[0m \u001b[1m4s\u001b[0m 6ms/step - accuracy: 0.8238 - loss: 0.6404\n",
            "Epoch 2/20\n",
            "\u001b[1m469/469\u001b[0m \u001b[32m━━━━━━━━━━━━━━━━━━━━\u001b[0m\u001b[37m\u001b[0m \u001b[1m6s\u001b[0m 7ms/step - accuracy: 0.9473 - loss: 0.1843\n",
            "Epoch 3/20\n",
            "\u001b[1m469/469\u001b[0m \u001b[32m━━━━━━━━━━━━━━━━━━━━\u001b[0m\u001b[37m\u001b[0m \u001b[1m6s\u001b[0m 9ms/step - accuracy: 0.9625 - loss: 0.1287\n",
            "Epoch 4/20\n",
            "\u001b[1m469/469\u001b[0m \u001b[32m━━━━━━━━━━━━━━━━━━━━\u001b[0m\u001b[37m\u001b[0m \u001b[1m5s\u001b[0m 9ms/step - accuracy: 0.9692 - loss: 0.1015\n",
            "Epoch 5/20\n",
            "\u001b[1m469/469\u001b[0m \u001b[32m━━━━━━━━━━━━━━━━━━━━\u001b[0m\u001b[37m\u001b[0m \u001b[1m5s\u001b[0m 11ms/step - accuracy: 0.9742 - loss: 0.0860\n",
            "Epoch 6/20\n",
            "\u001b[1m469/469\u001b[0m \u001b[32m━━━━━━━━━━━━━━━━━━━━\u001b[0m\u001b[37m\u001b[0m \u001b[1m5s\u001b[0m 11ms/step - accuracy: 0.9769 - loss: 0.0750\n",
            "Epoch 7/20\n",
            "\u001b[1m469/469\u001b[0m \u001b[32m━━━━━━━━━━━━━━━━━━━━\u001b[0m\u001b[37m\u001b[0m \u001b[1m7s\u001b[0m 5ms/step - accuracy: 0.9809 - loss: 0.0641\n",
            "Epoch 8/20\n",
            "\u001b[1m469/469\u001b[0m \u001b[32m━━━━━━━━━━━━━━━━━━━━\u001b[0m\u001b[37m\u001b[0m \u001b[1m3s\u001b[0m 5ms/step - accuracy: 0.9836 - loss: 0.0530\n",
            "Epoch 9/20\n",
            "\u001b[1m469/469\u001b[0m \u001b[32m━━━━━━━━━━━━━━━━━━━━\u001b[0m\u001b[37m\u001b[0m \u001b[1m3s\u001b[0m 5ms/step - accuracy: 0.9857 - loss: 0.0475\n",
            "Epoch 10/20\n",
            "\u001b[1m469/469\u001b[0m \u001b[32m━━━━━━━━━━━━━━━━━━━━\u001b[0m\u001b[37m\u001b[0m \u001b[1m2s\u001b[0m 5ms/step - accuracy: 0.9872 - loss: 0.0426\n",
            "Epoch 11/20\n",
            "\u001b[1m469/469\u001b[0m \u001b[32m━━━━━━━━━━━━━━━━━━━━\u001b[0m\u001b[37m\u001b[0m \u001b[1m3s\u001b[0m 6ms/step - accuracy: 0.9884 - loss: 0.0390\n",
            "Epoch 12/20\n",
            "\u001b[1m469/469\u001b[0m \u001b[32m━━━━━━━━━━━━━━━━━━━━\u001b[0m\u001b[37m\u001b[0m \u001b[1m5s\u001b[0m 6ms/step - accuracy: 0.9902 - loss: 0.0333\n",
            "Epoch 13/20\n",
            "\u001b[1m469/469\u001b[0m \u001b[32m━━━━━━━━━━━━━━━━━━━━\u001b[0m\u001b[37m\u001b[0m \u001b[1m6s\u001b[0m 8ms/step - accuracy: 0.9902 - loss: 0.0316\n",
            "Epoch 14/20\n",
            "\u001b[1m469/469\u001b[0m \u001b[32m━━━━━━━━━━━━━━━━━━━━\u001b[0m\u001b[37m\u001b[0m \u001b[1m5s\u001b[0m 7ms/step - accuracy: 0.9923 - loss: 0.0263\n",
            "Epoch 15/20\n",
            "\u001b[1m469/469\u001b[0m \u001b[32m━━━━━━━━━━━━━━━━━━━━\u001b[0m\u001b[37m\u001b[0m \u001b[1m3s\u001b[0m 7ms/step - accuracy: 0.9921 - loss: 0.0260\n",
            "Epoch 16/20\n",
            "\u001b[1m469/469\u001b[0m \u001b[32m━━━━━━━━━━━━━━━━━━━━\u001b[0m\u001b[37m\u001b[0m \u001b[1m6s\u001b[0m 9ms/step - accuracy: 0.9934 - loss: 0.0234\n",
            "Epoch 17/20\n",
            "\u001b[1m469/469\u001b[0m \u001b[32m━━━━━━━━━━━━━━━━━━━━\u001b[0m\u001b[37m\u001b[0m \u001b[1m3s\u001b[0m 6ms/step - accuracy: 0.9937 - loss: 0.0189\n",
            "Epoch 18/20\n",
            "\u001b[1m469/469\u001b[0m \u001b[32m━━━━━━━━━━━━━━━━━━━━\u001b[0m\u001b[37m\u001b[0m \u001b[1m6s\u001b[0m 8ms/step - accuracy: 0.9951 - loss: 0.0176\n",
            "Epoch 19/20\n",
            "\u001b[1m469/469\u001b[0m \u001b[32m━━━━━━━━━━━━━━━━━━━━\u001b[0m\u001b[37m\u001b[0m \u001b[1m4s\u001b[0m 8ms/step - accuracy: 0.9952 - loss: 0.0164\n",
            "Epoch 20/20\n",
            "\u001b[1m469/469\u001b[0m \u001b[32m━━━━━━━━━━━━━━━━━━━━\u001b[0m\u001b[37m\u001b[0m \u001b[1m4s\u001b[0m 9ms/step - accuracy: 0.9959 - loss: 0.0143\n"
          ]
        },
        {
          "data": {
            "text/plain": [
              "<keras.src.callbacks.history.History at 0x2849b3f4530>"
            ]
          },
          "execution_count": 124,
          "metadata": {},
          "output_type": "execute_result"
        }
      ],
      "source": [
        "network1.fit(x_train, y_train, batch_size=128, epochs=20)"
      ]
    },
    {
      "cell_type": "code",
      "execution_count": null,
      "id": "2655f2e6-c5eb-4ba8-b7be-92aabdbb7cc5",
      "metadata": {
        "id": "2655f2e6-c5eb-4ba8-b7be-92aabdbb7cc5",
        "outputId": "ce4ecc1a-4db5-403e-c2b0-74f4d1785587"
      },
      "outputs": [
        {
          "name": "stdout",
          "output_type": "stream",
          "text": [
            "Epoch 1/20\n",
            "\u001b[1m469/469\u001b[0m \u001b[32m━━━━━━━━━━━━━━━━━━━━\u001b[0m\u001b[37m\u001b[0m \u001b[1m7s\u001b[0m 12ms/step - accuracy: 0.8325 - loss: 0.6105\n",
            "Epoch 2/20\n",
            "\u001b[1m469/469\u001b[0m \u001b[32m━━━━━━━━━━━━━━━━━━━━\u001b[0m\u001b[37m\u001b[0m \u001b[1m4s\u001b[0m 8ms/step - accuracy: 0.9498 - loss: 0.1717\n",
            "Epoch 3/20\n",
            "\u001b[1m469/469\u001b[0m \u001b[32m━━━━━━━━━━━━━━━━━━━━\u001b[0m\u001b[37m\u001b[0m \u001b[1m6s\u001b[0m 10ms/step - accuracy: 0.9654 - loss: 0.1190\n",
            "Epoch 4/20\n",
            "\u001b[1m469/469\u001b[0m \u001b[32m━━━━━━━━━━━━━━━━━━━━\u001b[0m\u001b[37m\u001b[0m \u001b[1m6s\u001b[0m 12ms/step - accuracy: 0.9722 - loss: 0.0947\n",
            "Epoch 5/20\n",
            "\u001b[1m469/469\u001b[0m \u001b[32m━━━━━━━━━━━━━━━━━━━━\u001b[0m\u001b[37m\u001b[0m \u001b[1m8s\u001b[0m 8ms/step - accuracy: 0.9774 - loss: 0.0783\n",
            "Epoch 6/20\n",
            "\u001b[1m469/469\u001b[0m \u001b[32m━━━━━━━━━━━━━━━━━━━━\u001b[0m\u001b[37m\u001b[0m \u001b[1m6s\u001b[0m 9ms/step - accuracy: 0.9810 - loss: 0.0613\n",
            "Epoch 7/20\n",
            "\u001b[1m469/469\u001b[0m \u001b[32m━━━━━━━━━━━━━━━━━━━━\u001b[0m\u001b[37m\u001b[0m \u001b[1m4s\u001b[0m 9ms/step - accuracy: 0.9833 - loss: 0.0544\n",
            "Epoch 8/20\n",
            "\u001b[1m469/469\u001b[0m \u001b[32m━━━━━━━━━━━━━━━━━━━━\u001b[0m\u001b[37m\u001b[0m \u001b[1m6s\u001b[0m 10ms/step - accuracy: 0.9862 - loss: 0.0445\n",
            "Epoch 9/20\n",
            "\u001b[1m469/469\u001b[0m \u001b[32m━━━━━━━━━━━━━━━━━━━━\u001b[0m\u001b[37m\u001b[0m \u001b[1m3s\u001b[0m 5ms/step - accuracy: 0.9867 - loss: 0.0415\n",
            "Epoch 10/20\n",
            "\u001b[1m469/469\u001b[0m \u001b[32m━━━━━━━━━━━━━━━━━━━━\u001b[0m\u001b[37m\u001b[0m \u001b[1m4s\u001b[0m 8ms/step - accuracy: 0.9893 - loss: 0.0341\n",
            "Epoch 11/20\n",
            "\u001b[1m469/469\u001b[0m \u001b[32m━━━━━━━━━━━━━━━━━━━━\u001b[0m\u001b[37m\u001b[0m \u001b[1m4s\u001b[0m 9ms/step - accuracy: 0.9908 - loss: 0.0303\n",
            "Epoch 12/20\n",
            "\u001b[1m469/469\u001b[0m \u001b[32m━━━━━━━━━━━━━━━━━━━━\u001b[0m\u001b[37m\u001b[0m \u001b[1m4s\u001b[0m 6ms/step - accuracy: 0.9917 - loss: 0.0258\n",
            "Epoch 13/20\n",
            "\u001b[1m469/469\u001b[0m \u001b[32m━━━━━━━━━━━━━━━━━━━━\u001b[0m\u001b[37m\u001b[0m \u001b[1m6s\u001b[0m 8ms/step - accuracy: 0.9927 - loss: 0.0230\n",
            "Epoch 14/20\n",
            "\u001b[1m469/469\u001b[0m \u001b[32m━━━━━━━━━━━━━━━━━━━━\u001b[0m\u001b[37m\u001b[0m \u001b[1m5s\u001b[0m 8ms/step - accuracy: 0.9934 - loss: 0.0213\n",
            "Epoch 15/20\n",
            "\u001b[1m469/469\u001b[0m \u001b[32m━━━━━━━━━━━━━━━━━━━━\u001b[0m\u001b[37m\u001b[0m \u001b[1m5s\u001b[0m 8ms/step - accuracy: 0.9950 - loss: 0.0167\n",
            "Epoch 16/20\n",
            "\u001b[1m469/469\u001b[0m \u001b[32m━━━━━━━━━━━━━━━━━━━━\u001b[0m\u001b[37m\u001b[0m \u001b[1m4s\u001b[0m 8ms/step - accuracy: 0.9954 - loss: 0.0161\n",
            "Epoch 17/20\n",
            "\u001b[1m469/469\u001b[0m \u001b[32m━━━━━━━━━━━━━━━━━━━━\u001b[0m\u001b[37m\u001b[0m \u001b[1m4s\u001b[0m 8ms/step - accuracy: 0.9960 - loss: 0.0132\n",
            "Epoch 18/20\n",
            "\u001b[1m469/469\u001b[0m \u001b[32m━━━━━━━━━━━━━━━━━━━━\u001b[0m\u001b[37m\u001b[0m \u001b[1m5s\u001b[0m 8ms/step - accuracy: 0.9959 - loss: 0.0123\n",
            "Epoch 19/20\n",
            "\u001b[1m469/469\u001b[0m \u001b[32m━━━━━━━━━━━━━━━━━━━━\u001b[0m\u001b[37m\u001b[0m \u001b[1m6s\u001b[0m 10ms/step - accuracy: 0.9961 - loss: 0.0121\n",
            "Epoch 20/20\n",
            "\u001b[1m469/469\u001b[0m \u001b[32m━━━━━━━━━━━━━━━━━━━━\u001b[0m\u001b[37m\u001b[0m \u001b[1m3s\u001b[0m 7ms/step - accuracy: 0.9971 - loss: 0.0094\n"
          ]
        },
        {
          "data": {
            "text/plain": [
              "<keras.src.callbacks.history.History at 0x2849c540110>"
            ]
          },
          "execution_count": 125,
          "metadata": {},
          "output_type": "execute_result"
        }
      ],
      "source": [
        "network2.fit(x_train, y_train, batch_size=128, epochs=20)"
      ]
    },
    {
      "cell_type": "code",
      "execution_count": null,
      "id": "1cf5ade5-d61c-422f-9313-f9bd5f1bed0e",
      "metadata": {
        "id": "1cf5ade5-d61c-422f-9313-f9bd5f1bed0e",
        "outputId": "4eff573a-b8ae-4e78-8752-b7fc2ee631b4"
      },
      "outputs": [
        {
          "name": "stdout",
          "output_type": "stream",
          "text": [
            "Epoch 1/20\n",
            "\u001b[1m469/469\u001b[0m \u001b[32m━━━━━━━━━━━━━━━━━━━━\u001b[0m\u001b[37m\u001b[0m \u001b[1m8s\u001b[0m 13ms/step - accuracy: 0.8579 - loss: 0.5146\n",
            "Epoch 2/20\n",
            "\u001b[1m469/469\u001b[0m \u001b[32m━━━━━━━━━━━━━━━━━━━━\u001b[0m\u001b[37m\u001b[0m \u001b[1m7s\u001b[0m 16ms/step - accuracy: 0.9606 - loss: 0.1368\n",
            "Epoch 3/20\n",
            "\u001b[1m469/469\u001b[0m \u001b[32m━━━━━━━━━━━━━━━━━━━━\u001b[0m\u001b[37m\u001b[0m \u001b[1m7s\u001b[0m 15ms/step - accuracy: 0.9727 - loss: 0.0911\n",
            "Epoch 4/20\n",
            "\u001b[1m469/469\u001b[0m \u001b[32m━━━━━━━━━━━━━━━━━━━━\u001b[0m\u001b[37m\u001b[0m \u001b[1m6s\u001b[0m 13ms/step - accuracy: 0.9791 - loss: 0.0681\n",
            "Epoch 5/20\n",
            "\u001b[1m469/469\u001b[0m \u001b[32m━━━━━━━━━━━━━━━━━━━━\u001b[0m\u001b[37m\u001b[0m \u001b[1m8s\u001b[0m 16ms/step - accuracy: 0.9840 - loss: 0.0550\n",
            "Epoch 6/20\n",
            "\u001b[1m469/469\u001b[0m \u001b[32m━━━━━━━━━━━━━━━━━━━━\u001b[0m\u001b[37m\u001b[0m \u001b[1m10s\u001b[0m 16ms/step - accuracy: 0.9874 - loss: 0.0420\n",
            "Epoch 7/20\n",
            "\u001b[1m469/469\u001b[0m \u001b[32m━━━━━━━━━━━━━━━━━━━━\u001b[0m\u001b[37m\u001b[0m \u001b[1m6s\u001b[0m 12ms/step - accuracy: 0.9896 - loss: 0.0349\n",
            "Epoch 8/20\n",
            "\u001b[1m469/469\u001b[0m \u001b[32m━━━━━━━━━━━━━━━━━━━━\u001b[0m\u001b[37m\u001b[0m \u001b[1m11s\u001b[0m 15ms/step - accuracy: 0.9910 - loss: 0.0278\n",
            "Epoch 9/20\n",
            "\u001b[1m469/469\u001b[0m \u001b[32m━━━━━━━━━━━━━━━━━━━━\u001b[0m\u001b[37m\u001b[0m \u001b[1m11s\u001b[0m 15ms/step - accuracy: 0.9932 - loss: 0.0225\n",
            "Epoch 10/20\n",
            "\u001b[1m469/469\u001b[0m \u001b[32m━━━━━━━━━━━━━━━━━━━━\u001b[0m\u001b[37m\u001b[0m \u001b[1m7s\u001b[0m 15ms/step - accuracy: 0.9938 - loss: 0.0195\n",
            "Epoch 11/20\n",
            "\u001b[1m469/469\u001b[0m \u001b[32m━━━━━━━━━━━━━━━━━━━━\u001b[0m\u001b[37m\u001b[0m \u001b[1m6s\u001b[0m 12ms/step - accuracy: 0.9954 - loss: 0.0156\n",
            "Epoch 12/20\n",
            "\u001b[1m469/469\u001b[0m \u001b[32m━━━━━━━━━━━━━━━━━━━━\u001b[0m\u001b[37m\u001b[0m \u001b[1m11s\u001b[0m 13ms/step - accuracy: 0.9961 - loss: 0.0134\n",
            "Epoch 13/20\n",
            "\u001b[1m469/469\u001b[0m \u001b[32m━━━━━━━━━━━━━━━━━━━━\u001b[0m\u001b[37m\u001b[0m \u001b[1m8s\u001b[0m 9ms/step - accuracy: 0.9973 - loss: 0.0090\n",
            "Epoch 14/20\n",
            "\u001b[1m469/469\u001b[0m \u001b[32m━━━━━━━━━━━━━━━━━━━━\u001b[0m\u001b[37m\u001b[0m \u001b[1m7s\u001b[0m 12ms/step - accuracy: 0.9969 - loss: 0.0096\n",
            "Epoch 15/20\n",
            "\u001b[1m469/469\u001b[0m \u001b[32m━━━━━━━━━━━━━━━━━━━━\u001b[0m\u001b[37m\u001b[0m \u001b[1m11s\u001b[0m 13ms/step - accuracy: 0.9980 - loss: 0.0067\n",
            "Epoch 16/20\n",
            "\u001b[1m469/469\u001b[0m \u001b[32m━━━━━━━━━━━━━━━━━━━━\u001b[0m\u001b[37m\u001b[0m \u001b[1m12s\u001b[0m 16ms/step - accuracy: 0.9982 - loss: 0.0063\n",
            "Epoch 17/20\n",
            "\u001b[1m469/469\u001b[0m \u001b[32m━━━━━━━━━━━━━━━━━━━━\u001b[0m\u001b[37m\u001b[0m \u001b[1m11s\u001b[0m 17ms/step - accuracy: 0.9983 - loss: 0.0053\n",
            "Epoch 18/20\n",
            "\u001b[1m469/469\u001b[0m \u001b[32m━━━━━━━━━━━━━━━━━━━━\u001b[0m\u001b[37m\u001b[0m \u001b[1m8s\u001b[0m 11ms/step - accuracy: 0.9982 - loss: 0.0059\n",
            "Epoch 19/20\n",
            "\u001b[1m469/469\u001b[0m \u001b[32m━━━━━━━━━━━━━━━━━━━━\u001b[0m\u001b[37m\u001b[0m \u001b[1m11s\u001b[0m 12ms/step - accuracy: 0.9987 - loss: 0.0036\n",
            "Epoch 20/20\n",
            "\u001b[1m469/469\u001b[0m \u001b[32m━━━━━━━━━━━━━━━━━━━━\u001b[0m\u001b[37m\u001b[0m \u001b[1m11s\u001b[0m 13ms/step - accuracy: 0.9987 - loss: 0.0040\n"
          ]
        },
        {
          "data": {
            "text/plain": [
              "<keras.src.callbacks.history.History at 0x2849afa38c0>"
            ]
          },
          "execution_count": 126,
          "metadata": {},
          "output_type": "execute_result"
        }
      ],
      "source": [
        "network3.fit(x_train, y_train, batch_size=128, epochs=20)"
      ]
    },
    {
      "cell_type": "code",
      "execution_count": null,
      "id": "da8cea7e-f529-44f9-9a58-f1aa7cf29134",
      "metadata": {
        "scrolled": true,
        "id": "da8cea7e-f529-44f9-9a58-f1aa7cf29134",
        "outputId": "bbffcc0d-5160-4b7a-c9c1-403d36c9f85c"
      },
      "outputs": [
        {
          "name": "stdout",
          "output_type": "stream",
          "text": [
            "Epoch 1/20\n",
            "\u001b[1m469/469\u001b[0m \u001b[32m━━━━━━━━━━━━━━━━━━━━\u001b[0m\u001b[37m\u001b[0m \u001b[1m5s\u001b[0m 6ms/step - accuracy: 0.8234 - loss: 0.6319\n",
            "Epoch 2/20\n",
            "\u001b[1m469/469\u001b[0m \u001b[32m━━━━━━━━━━━━━━━━━━━━\u001b[0m\u001b[37m\u001b[0m \u001b[1m7s\u001b[0m 9ms/step - accuracy: 0.9475 - loss: 0.1757\n",
            "Epoch 3/20\n",
            "\u001b[1m469/469\u001b[0m \u001b[32m━━━━━━━━━━━━━━━━━━━━\u001b[0m\u001b[37m\u001b[0m \u001b[1m7s\u001b[0m 12ms/step - accuracy: 0.9633 - loss: 0.1205\n",
            "Epoch 4/20\n",
            "\u001b[1m469/469\u001b[0m \u001b[32m━━━━━━━━━━━━━━━━━━━━\u001b[0m\u001b[37m\u001b[0m \u001b[1m10s\u001b[0m 12ms/step - accuracy: 0.9703 - loss: 0.0962\n",
            "Epoch 5/20\n",
            "\u001b[1m469/469\u001b[0m \u001b[32m━━━━━━━━━━━━━━━━━━━━\u001b[0m\u001b[37m\u001b[0m \u001b[1m8s\u001b[0m 7ms/step - accuracy: 0.9767 - loss: 0.0803\n",
            "Epoch 6/20\n",
            "\u001b[1m469/469\u001b[0m \u001b[32m━━━━━━━━━━━━━━━━━━━━\u001b[0m\u001b[37m\u001b[0m \u001b[1m6s\u001b[0m 9ms/step - accuracy: 0.9791 - loss: 0.0678\n",
            "Epoch 7/20\n",
            "\u001b[1m469/469\u001b[0m \u001b[32m━━━━━━━━━━━━━━━━━━━━\u001b[0m\u001b[37m\u001b[0m \u001b[1m5s\u001b[0m 9ms/step - accuracy: 0.9813 - loss: 0.0584\n",
            "Epoch 8/20\n",
            "\u001b[1m469/469\u001b[0m \u001b[32m━━━━━━━━━━━━━━━━━━━━\u001b[0m\u001b[37m\u001b[0m \u001b[1m3s\u001b[0m 6ms/step - accuracy: 0.9838 - loss: 0.0533\n",
            "Epoch 9/20\n",
            "\u001b[1m469/469\u001b[0m \u001b[32m━━━━━━━━━━━━━━━━━━━━\u001b[0m\u001b[37m\u001b[0m \u001b[1m6s\u001b[0m 7ms/step - accuracy: 0.9863 - loss: 0.0452\n",
            "Epoch 10/20\n",
            "\u001b[1m469/469\u001b[0m \u001b[32m━━━━━━━━━━━━━━━━━━━━\u001b[0m\u001b[37m\u001b[0m \u001b[1m3s\u001b[0m 5ms/step - accuracy: 0.9884 - loss: 0.0388\n",
            "Epoch 11/20\n",
            "\u001b[1m469/469\u001b[0m \u001b[32m━━━━━━━━━━━━━━━━━━━━\u001b[0m\u001b[37m\u001b[0m \u001b[1m6s\u001b[0m 6ms/step - accuracy: 0.9883 - loss: 0.0341\n",
            "Epoch 12/20\n",
            "\u001b[1m469/469\u001b[0m \u001b[32m━━━━━━━━━━━━━━━━━━━━\u001b[0m\u001b[37m\u001b[0m \u001b[1m3s\u001b[0m 5ms/step - accuracy: 0.9898 - loss: 0.0321\n",
            "Epoch 13/20\n",
            "\u001b[1m469/469\u001b[0m \u001b[32m━━━━━━━━━━━━━━━━━━━━\u001b[0m\u001b[37m\u001b[0m \u001b[1m3s\u001b[0m 5ms/step - accuracy: 0.9919 - loss: 0.0260\n",
            "Epoch 14/20\n",
            "\u001b[1m469/469\u001b[0m \u001b[32m━━━━━━━━━━━━━━━━━━━━\u001b[0m\u001b[37m\u001b[0m \u001b[1m2s\u001b[0m 5ms/step - accuracy: 0.9930 - loss: 0.0225\n",
            "Epoch 15/20\n",
            "\u001b[1m469/469\u001b[0m \u001b[32m━━━━━━━━━━━━━━━━━━━━\u001b[0m\u001b[37m\u001b[0m \u001b[1m3s\u001b[0m 5ms/step - accuracy: 0.9932 - loss: 0.0203\n",
            "Epoch 16/20\n",
            "\u001b[1m469/469\u001b[0m \u001b[32m━━━━━━━━━━━━━━━━━━━━\u001b[0m\u001b[37m\u001b[0m \u001b[1m3s\u001b[0m 5ms/step - accuracy: 0.9934 - loss: 0.0203\n",
            "Epoch 17/20\n",
            "\u001b[1m469/469\u001b[0m \u001b[32m━━━━━━━━━━━━━━━━━━━━\u001b[0m\u001b[37m\u001b[0m \u001b[1m3s\u001b[0m 6ms/step - accuracy: 0.9939 - loss: 0.0180\n",
            "Epoch 18/20\n",
            "\u001b[1m469/469\u001b[0m \u001b[32m━━━━━━━━━━━━━━━━━━━━\u001b[0m\u001b[37m\u001b[0m \u001b[1m2s\u001b[0m 5ms/step - accuracy: 0.9949 - loss: 0.0155\n",
            "Epoch 19/20\n",
            "\u001b[1m469/469\u001b[0m \u001b[32m━━━━━━━━━━━━━━━━━━━━\u001b[0m\u001b[37m\u001b[0m \u001b[1m3s\u001b[0m 6ms/step - accuracy: 0.9953 - loss: 0.0143\n",
            "Epoch 20/20\n",
            "\u001b[1m469/469\u001b[0m \u001b[32m━━━━━━━━━━━━━━━━━━━━\u001b[0m\u001b[37m\u001b[0m \u001b[1m3s\u001b[0m 5ms/step - accuracy: 0.9963 - loss: 0.0129\n"
          ]
        },
        {
          "data": {
            "text/plain": [
              "<keras.src.callbacks.history.History at 0x2849afa28a0>"
            ]
          },
          "execution_count": 127,
          "metadata": {},
          "output_type": "execute_result"
        }
      ],
      "source": [
        "network4.fit(x_train, y_train, batch_size=128, epochs=20)"
      ]
    },
    {
      "cell_type": "code",
      "execution_count": null,
      "id": "9c5de38b-5746-405b-a8ed-30280809c7f7",
      "metadata": {
        "id": "9c5de38b-5746-405b-a8ed-30280809c7f7",
        "outputId": "f1b406ed-9426-4401-85b5-c36cf3ad057e"
      },
      "outputs": [
        {
          "name": "stdout",
          "output_type": "stream",
          "text": [
            "Epoch 1/20\n",
            "\u001b[1m469/469\u001b[0m \u001b[32m━━━━━━━━━━━━━━━━━━━━\u001b[0m\u001b[37m\u001b[0m \u001b[1m5s\u001b[0m 7ms/step - accuracy: 0.8265 - loss: 0.5865\n",
            "Epoch 2/20\n",
            "\u001b[1m469/469\u001b[0m \u001b[32m━━━━━━━━━━━━━━━━━━━━\u001b[0m\u001b[37m\u001b[0m \u001b[1m3s\u001b[0m 5ms/step - accuracy: 0.9539 - loss: 0.1532\n",
            "Epoch 3/20\n",
            "\u001b[1m469/469\u001b[0m \u001b[32m━━━━━━━━━━━━━━━━━━━━\u001b[0m\u001b[37m\u001b[0m \u001b[1m3s\u001b[0m 5ms/step - accuracy: 0.9688 - loss: 0.1046\n",
            "Epoch 4/20\n",
            "\u001b[1m469/469\u001b[0m \u001b[32m━━━━━━━━━━━━━━━━━━━━\u001b[0m\u001b[37m\u001b[0m \u001b[1m3s\u001b[0m 6ms/step - accuracy: 0.9749 - loss: 0.0818\n",
            "Epoch 5/20\n",
            "\u001b[1m469/469\u001b[0m \u001b[32m━━━━━━━━━━━━━━━━━━━━\u001b[0m\u001b[37m\u001b[0m \u001b[1m7s\u001b[0m 10ms/step - accuracy: 0.9787 - loss: 0.0661\n",
            "Epoch 6/20\n",
            "\u001b[1m469/469\u001b[0m \u001b[32m━━━━━━━━━━━━━━━━━━━━\u001b[0m\u001b[37m\u001b[0m \u001b[1m5s\u001b[0m 11ms/step - accuracy: 0.9829 - loss: 0.0528\n",
            "Epoch 7/20\n",
            "\u001b[1m469/469\u001b[0m \u001b[32m━━━━━━━━━━━━━━━━━━━━\u001b[0m\u001b[37m\u001b[0m \u001b[1m6s\u001b[0m 12ms/step - accuracy: 0.9855 - loss: 0.0462\n",
            "Epoch 8/20\n",
            "\u001b[1m469/469\u001b[0m \u001b[32m━━━━━━━━━━━━━━━━━━━━\u001b[0m\u001b[37m\u001b[0m \u001b[1m4s\u001b[0m 9ms/step - accuracy: 0.9881 - loss: 0.0377\n",
            "Epoch 9/20\n",
            "\u001b[1m469/469\u001b[0m \u001b[32m━━━━━━━━━━━━━━━━━━━━\u001b[0m\u001b[37m\u001b[0m \u001b[1m6s\u001b[0m 11ms/step - accuracy: 0.9895 - loss: 0.0334\n",
            "Epoch 10/20\n",
            "\u001b[1m469/469\u001b[0m \u001b[32m━━━━━━━━━━━━━━━━━━━━\u001b[0m\u001b[37m\u001b[0m \u001b[1m5s\u001b[0m 11ms/step - accuracy: 0.9909 - loss: 0.0279\n",
            "Epoch 11/20\n",
            "\u001b[1m469/469\u001b[0m \u001b[32m━━━━━━━━━━━━━━━━━━━━\u001b[0m\u001b[37m\u001b[0m \u001b[1m5s\u001b[0m 11ms/step - accuracy: 0.9915 - loss: 0.0254\n",
            "Epoch 12/20\n",
            "\u001b[1m469/469\u001b[0m \u001b[32m━━━━━━━━━━━━━━━━━━━━\u001b[0m\u001b[37m\u001b[0m \u001b[1m4s\u001b[0m 9ms/step - accuracy: 0.9933 - loss: 0.0218\n",
            "Epoch 13/20\n",
            "\u001b[1m469/469\u001b[0m \u001b[32m━━━━━━━━━━━━━━━━━━━━\u001b[0m\u001b[37m\u001b[0m \u001b[1m5s\u001b[0m 9ms/step - accuracy: 0.9946 - loss: 0.0170\n",
            "Epoch 14/20\n",
            "\u001b[1m469/469\u001b[0m \u001b[32m━━━━━━━━━━━━━━━━━━━━\u001b[0m\u001b[37m\u001b[0m \u001b[1m4s\u001b[0m 7ms/step - accuracy: 0.9948 - loss: 0.0178\n",
            "Epoch 15/20\n",
            "\u001b[1m469/469\u001b[0m \u001b[32m━━━━━━━━━━━━━━━━━━━━\u001b[0m\u001b[37m\u001b[0m \u001b[1m6s\u001b[0m 8ms/step - accuracy: 0.9949 - loss: 0.0156\n",
            "Epoch 16/20\n",
            "\u001b[1m469/469\u001b[0m \u001b[32m━━━━━━━━━━━━━━━━━━━━\u001b[0m\u001b[37m\u001b[0m \u001b[1m4s\u001b[0m 8ms/step - accuracy: 0.9959 - loss: 0.0128\n",
            "Epoch 17/20\n",
            "\u001b[1m469/469\u001b[0m \u001b[32m━━━━━━━━━━━━━━━━━━━━\u001b[0m\u001b[37m\u001b[0m \u001b[1m5s\u001b[0m 8ms/step - accuracy: 0.9963 - loss: 0.0113\n",
            "Epoch 18/20\n",
            "\u001b[1m469/469\u001b[0m \u001b[32m━━━━━━━━━━━━━━━━━━━━\u001b[0m\u001b[37m\u001b[0m \u001b[1m5s\u001b[0m 8ms/step - accuracy: 0.9962 - loss: 0.0112\n",
            "Epoch 19/20\n",
            "\u001b[1m469/469\u001b[0m \u001b[32m━━━━━━━━━━━━━━━━━━━━\u001b[0m\u001b[37m\u001b[0m \u001b[1m4s\u001b[0m 6ms/step - accuracy: 0.9964 - loss: 0.0097\n",
            "Epoch 20/20\n",
            "\u001b[1m469/469\u001b[0m \u001b[32m━━━━━━━━━━━━━━━━━━━━\u001b[0m\u001b[37m\u001b[0m \u001b[1m4s\u001b[0m 9ms/step - accuracy: 0.9973 - loss: 0.0081\n"
          ]
        },
        {
          "data": {
            "text/plain": [
              "<keras.src.callbacks.history.History at 0x284b900ee40>"
            ]
          },
          "execution_count": 128,
          "metadata": {},
          "output_type": "execute_result"
        }
      ],
      "source": [
        "network5.fit(x_train, y_train, batch_size=128, epochs=20)"
      ]
    },
    {
      "cell_type": "code",
      "execution_count": null,
      "id": "145db454-9ee9-435c-99c6-9650dc72dcde",
      "metadata": {
        "id": "145db454-9ee9-435c-99c6-9650dc72dcde",
        "outputId": "86208ca2-3cb7-4176-9ffa-9b23ab9078ff"
      },
      "outputs": [
        {
          "name": "stdout",
          "output_type": "stream",
          "text": [
            "Epoch 1/20\n",
            "\u001b[1m469/469\u001b[0m \u001b[32m━━━━━━━━━━━━━━━━━━━━\u001b[0m\u001b[37m\u001b[0m \u001b[1m10s\u001b[0m 16ms/step - accuracy: 0.8402 - loss: 0.5433\n",
            "Epoch 2/20\n",
            "\u001b[1m469/469\u001b[0m \u001b[32m━━━━━━━━━━━━━━━━━━━━\u001b[0m\u001b[37m\u001b[0m \u001b[1m10s\u001b[0m 14ms/step - accuracy: 0.9599 - loss: 0.1340\n",
            "Epoch 3/20\n",
            "\u001b[1m469/469\u001b[0m \u001b[32m━━━━━━━━━━━━━━━━━━━━\u001b[0m\u001b[37m\u001b[0m \u001b[1m9s\u001b[0m 12ms/step - accuracy: 0.9750 - loss: 0.0802\n",
            "Epoch 4/20\n",
            "\u001b[1m469/469\u001b[0m \u001b[32m━━━━━━━━━━━━━━━━━━━━\u001b[0m\u001b[37m\u001b[0m \u001b[1m14s\u001b[0m 19ms/step - accuracy: 0.9812 - loss: 0.0606\n",
            "Epoch 5/20\n",
            "\u001b[1m469/469\u001b[0m \u001b[32m━━━━━━━━━━━━━━━━━━━━\u001b[0m\u001b[37m\u001b[0m \u001b[1m6s\u001b[0m 11ms/step - accuracy: 0.9861 - loss: 0.0438\n",
            "Epoch 6/20\n",
            "\u001b[1m469/469\u001b[0m \u001b[32m━━━━━━━━━━━━━━━━━━━━\u001b[0m\u001b[37m\u001b[0m \u001b[1m7s\u001b[0m 14ms/step - accuracy: 0.9888 - loss: 0.0365\n",
            "Epoch 7/20\n",
            "\u001b[1m469/469\u001b[0m \u001b[32m━━━━━━━━━━━━━━━━━━━━\u001b[0m\u001b[37m\u001b[0m \u001b[1m11s\u001b[0m 16ms/step - accuracy: 0.9907 - loss: 0.0284\n",
            "Epoch 8/20\n",
            "\u001b[1m469/469\u001b[0m \u001b[32m━━━━━━━━━━━━━━━━━━━━\u001b[0m\u001b[37m\u001b[0m \u001b[1m7s\u001b[0m 15ms/step - accuracy: 0.9925 - loss: 0.0239\n",
            "Epoch 9/20\n",
            "\u001b[1m469/469\u001b[0m \u001b[32m━━━━━━━━━━━━━━━━━━━━\u001b[0m\u001b[37m\u001b[0m \u001b[1m7s\u001b[0m 15ms/step - accuracy: 0.9934 - loss: 0.0206\n",
            "Epoch 10/20\n",
            "\u001b[1m469/469\u001b[0m \u001b[32m━━━━━━━━━━━━━━━━━━━━\u001b[0m\u001b[37m\u001b[0m \u001b[1m11s\u001b[0m 15ms/step - accuracy: 0.9943 - loss: 0.0174\n",
            "Epoch 11/20\n",
            "\u001b[1m469/469\u001b[0m \u001b[32m━━━━━━━━━━━━━━━━━━━━\u001b[0m\u001b[37m\u001b[0m \u001b[1m8s\u001b[0m 17ms/step - accuracy: 0.9945 - loss: 0.0160\n",
            "Epoch 12/20\n",
            "\u001b[1m469/469\u001b[0m \u001b[32m━━━━━━━━━━━━━━━━━━━━\u001b[0m\u001b[37m\u001b[0m \u001b[1m11s\u001b[0m 17ms/step - accuracy: 0.9964 - loss: 0.0112\n",
            "Epoch 13/20\n",
            "\u001b[1m469/469\u001b[0m \u001b[32m━━━━━━━━━━━━━━━━━━━━\u001b[0m\u001b[37m\u001b[0m \u001b[1m7s\u001b[0m 15ms/step - accuracy: 0.9959 - loss: 0.0117\n",
            "Epoch 14/20\n",
            "\u001b[1m469/469\u001b[0m \u001b[32m━━━━━━━━━━━━━━━━━━━━\u001b[0m\u001b[37m\u001b[0m \u001b[1m10s\u001b[0m 15ms/step - accuracy: 0.9967 - loss: 0.0097\n",
            "Epoch 15/20\n",
            "\u001b[1m469/469\u001b[0m \u001b[32m━━━━━━━━━━━━━━━━━━━━\u001b[0m\u001b[37m\u001b[0m \u001b[1m11s\u001b[0m 17ms/step - accuracy: 0.9970 - loss: 0.0096\n",
            "Epoch 16/20\n",
            "\u001b[1m469/469\u001b[0m \u001b[32m━━━━━━━━━━━━━━━━━━━━\u001b[0m\u001b[37m\u001b[0m \u001b[1m8s\u001b[0m 11ms/step - accuracy: 0.9974 - loss: 0.0075\n",
            "Epoch 17/20\n",
            "\u001b[1m469/469\u001b[0m \u001b[32m━━━━━━━━━━━━━━━━━━━━\u001b[0m\u001b[37m\u001b[0m \u001b[1m9s\u001b[0m 8ms/step - accuracy: 0.9981 - loss: 0.0066\n",
            "Epoch 18/20\n",
            "\u001b[1m469/469\u001b[0m \u001b[32m━━━━━━━━━━━━━━━━━━━━\u001b[0m\u001b[37m\u001b[0m \u001b[1m5s\u001b[0m 11ms/step - accuracy: 0.9975 - loss: 0.0080\n",
            "Epoch 19/20\n",
            "\u001b[1m469/469\u001b[0m \u001b[32m━━━━━━━━━━━━━━━━━━━━\u001b[0m\u001b[37m\u001b[0m \u001b[1m13s\u001b[0m 16ms/step - accuracy: 0.9981 - loss: 0.0063\n",
            "Epoch 20/20\n",
            "\u001b[1m469/469\u001b[0m \u001b[32m━━━━━━━━━━━━━━━━━━━━\u001b[0m\u001b[37m\u001b[0m \u001b[1m7s\u001b[0m 9ms/step - accuracy: 0.9985 - loss: 0.0044\n"
          ]
        },
        {
          "data": {
            "text/plain": [
              "<keras.src.callbacks.history.History at 0x284b9137a40>"
            ]
          },
          "execution_count": 129,
          "metadata": {},
          "output_type": "execute_result"
        }
      ],
      "source": [
        "network6.fit(x_train, y_train, batch_size=128, epochs=20)"
      ]
    },
    {
      "cell_type": "markdown",
      "id": "3b885865-c9e0-4602-b174-da834989378c",
      "metadata": {
        "id": "3b885865-c9e0-4602-b174-da834989378c"
      },
      "source": [
        "### **4.測試神經網路正確率**"
      ]
    },
    {
      "cell_type": "code",
      "execution_count": null,
      "id": "bffdbbef-f835-45a0-b11e-a65f368d6e2e",
      "metadata": {
        "scrolled": true,
        "id": "bffdbbef-f835-45a0-b11e-a65f368d6e2e",
        "outputId": "07bd41a8-7c2c-41f3-8d8b-3860abdc23a4"
      },
      "outputs": [
        {
          "name": "stdout",
          "output_type": "stream",
          "text": [
            "Network 1 訓練準確率: 99.60%, 測試準確率: 97.41%\n",
            "Network 2 訓練準確率: 99.76%, 測試準確率: 97.61%\n",
            "Network 3 訓練準確率: 99.94%, 測試準確率: 98.07%\n",
            "Network 4 訓練準確率: 99.45%, 測試準確率: 97.22%\n",
            "Network 5 訓練準確率: 99.77%, 測試準確率: 97.71%\n",
            "Network 6 訓練準確率: 99.87%, 測試準確率: 98.08%\n"
          ]
        }
      ],
      "source": [
        "# 訓練好的神經網路分成集合\n",
        "networks = [network1, network2, network3, network4, network5, network6]\n",
        "\n",
        "# 依序評估每個模型的訓練準確率和測試準確率\n",
        "results = [{\"train_acc\": model.evaluate(x_train, y_train, verbose=0)[1],\n",
        "            \"test_acc\": model.evaluate(x_test, y_test, verbose=0)[1] }\n",
        "           for model in networks]\n",
        "# 輸出結果\n",
        "for index, res in enumerate(results, start=1):\n",
        "    print(f\"Network {index} 訓練準確率: {res['train_acc']*100:.2f}%, 測試準確率: {res['test_acc']*100:.2f}%\")"
      ]
    },
    {
      "cell_type": "code",
      "execution_count": null,
      "id": "5f6a4a12-2b0c-48b0-8248-f76e2b83c4c2",
      "metadata": {
        "id": "5f6a4a12-2b0c-48b0-8248-f76e2b83c4c2"
      },
      "outputs": [],
      "source": []
    },
    {
      "cell_type": "code",
      "execution_count": null,
      "id": "e0c51ef4-3601-4824-b97f-a8a8cddc6097",
      "metadata": {
        "id": "e0c51ef4-3601-4824-b97f-a8a8cddc6097"
      },
      "outputs": [],
      "source": []
    },
    {
      "cell_type": "code",
      "execution_count": null,
      "id": "def85d2c-f910-4956-9538-cc79c2c947b6",
      "metadata": {
        "id": "def85d2c-f910-4956-9538-cc79c2c947b6"
      },
      "outputs": [],
      "source": []
    },
    {
      "cell_type": "code",
      "execution_count": null,
      "id": "fbf40f98-e459-4697-8441-114ed83a937b",
      "metadata": {
        "id": "fbf40f98-e459-4697-8441-114ed83a937b"
      },
      "outputs": [],
      "source": []
    },
    {
      "cell_type": "code",
      "execution_count": null,
      "id": "33cfaf63-6fed-46c0-95f4-52307af32be3",
      "metadata": {
        "id": "33cfaf63-6fed-46c0-95f4-52307af32be3"
      },
      "outputs": [],
      "source": []
    },
    {
      "cell_type": "code",
      "execution_count": null,
      "id": "17a094e7-e7e7-43ad-919f-6a3a17865c0c",
      "metadata": {
        "id": "17a094e7-e7e7-43ad-919f-6a3a17865c0c"
      },
      "outputs": [],
      "source": []
    },
    {
      "cell_type": "code",
      "execution_count": null,
      "id": "c2890302-c543-40f3-91fc-a2b8262fa88a",
      "metadata": {
        "id": "c2890302-c543-40f3-91fc-a2b8262fa88a"
      },
      "outputs": [],
      "source": []
    },
    {
      "cell_type": "code",
      "execution_count": null,
      "id": "d093d66e-19b3-4115-9972-708f7f586d6f",
      "metadata": {
        "id": "d093d66e-19b3-4115-9972-708f7f586d6f"
      },
      "outputs": [],
      "source": []
    },
    {
      "cell_type": "code",
      "execution_count": null,
      "id": "688d216c-9675-43e8-a85e-873b528a1c47",
      "metadata": {
        "id": "688d216c-9675-43e8-a85e-873b528a1c47"
      },
      "outputs": [],
      "source": []
    },
    {
      "cell_type": "code",
      "execution_count": null,
      "id": "18760468-6395-45d4-9828-3815c31f6bea",
      "metadata": {
        "id": "18760468-6395-45d4-9828-3815c31f6bea"
      },
      "outputs": [],
      "source": []
    },
    {
      "cell_type": "code",
      "execution_count": null,
      "id": "05a181a8-cdf8-4f49-9404-19988888cef3",
      "metadata": {
        "id": "05a181a8-cdf8-4f49-9404-19988888cef3"
      },
      "outputs": [],
      "source": []
    }
  ],
  "metadata": {
    "kernelspec": {
      "display_name": "Python [conda env:base] *",
      "language": "python",
      "name": "conda-base-py"
    },
    "language_info": {
      "codemirror_mode": {
        "name": "ipython",
        "version": 3
      },
      "file_extension": ".py",
      "mimetype": "text/x-python",
      "name": "python",
      "nbconvert_exporter": "python",
      "pygments_lexer": "ipython3",
      "version": "3.12.7"
    },
    "colab": {
      "provenance": [],
      "include_colab_link": true
    }
  },
  "nbformat": 4,
  "nbformat_minor": 5
}